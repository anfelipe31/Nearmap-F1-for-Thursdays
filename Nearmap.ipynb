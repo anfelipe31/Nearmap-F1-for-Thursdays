{
  "nbformat": 4,
  "nbformat_minor": 0,
  "metadata": {
    "colab": {
      "name": "Nearmap.ipynb",
      "provenance": []
    },
    "kernelspec": {
      "name": "python3",
      "display_name": "Python 3"
    },
    "language_info": {
      "name": "python"
    }
  },
  "cells": [
    {
      "cell_type": "code",
      "metadata": {
        "id": "jVRRlEC2fnJN"
      },
      "source": [
        "import pandas as pd\n"
      ],
      "execution_count": 102,
      "outputs": []
    },
    {
      "cell_type": "code",
      "metadata": {
        "id": "mS9s4QkHo0g1"
      },
      "source": [
        "!wget https://www.dropbox.com/s/u4janrzqgfxn61l/test.tar.gz?dl=0%20"
      ],
      "execution_count": null,
      "outputs": []
    },
    {
      "cell_type": "code",
      "metadata": {
        "id": "s0AFm0eXyjKd"
      },
      "source": [
        " import tarfile\n",
        " file = tarfile.open(\"test.tar.gz?dl=0 \",\"r:gz\")\n",
        " file.extractall()\n",
        " file.close()"
      ],
      "execution_count": 104,
      "outputs": []
    },
    {
      "cell_type": "code",
      "metadata": {
        "id": "7Edav-RgzAcs"
      },
      "source": [
        "df = pd.read_csv(r'/content/test.psv', sep = \"|\", header = 1)\n",
        "df"
      ],
      "execution_count": null,
      "outputs": []
    },
    {
      "cell_type": "markdown",
      "metadata": {
        "id": "lZdwwQM1pmAQ"
      },
      "source": [
        "# **Convert dates to days**\n",
        "\n",
        "Week days are represented by numbers which are stored in the list days. Thursday is represented by 3"
      ]
    },
    {
      "cell_type": "code",
      "metadata": {
        "id": "4bqBM7lmndVd"
      },
      "source": [
        "from datetime import datetime\n",
        "days = []\n",
        "\n",
        "for i in dates:\n",
        "  day = datetime.strptime(i, '%Y-%m-%d').weekday()\n",
        "  days.append(day)\n",
        "print (days)\n"
      ],
      "execution_count": null,
      "outputs": []
    },
    {
      "cell_type": "markdown",
      "metadata": {
        "id": "dBHmwasnp9gr"
      },
      "source": [
        "Add the column days to the dataframe and reorganize the columns order"
      ]
    },
    {
      "cell_type": "code",
      "metadata": {
        "id": "lt2uA_LCt2O7"
      },
      "source": [
        "df['day']=days\n",
        "df = df[['dates','day','y','yhat']]\n",
        "df"
      ],
      "execution_count": null,
      "outputs": []
    },
    {
      "cell_type": "markdown",
      "metadata": {
        "id": "UREPHQUcFXin"
      },
      "source": [
        "Calculate True positives"
      ]
    },
    {
      "cell_type": "code",
      "metadata": {
        "id": "RO37oXln1G0A"
      },
      "source": [
        "true_positive = df[(df['day']==3) & (df['y'] ==1) & (df['yhat'] ==1)]\n",
        "#true_positive\n",
        "tp = len(true_positive)\n",
        "#print(tp)\n"
      ],
      "execution_count": 108,
      "outputs": []
    },
    {
      "cell_type": "markdown",
      "metadata": {
        "id": "Z9DctL5FS8ty"
      },
      "source": [
        "Calculate false positive"
      ]
    },
    {
      "cell_type": "code",
      "metadata": {
        "id": "74QFXR-MMZRh"
      },
      "source": [
        "false_positive = df[(df['day']==3) & (df['y'] ==0) & (df['yhat'] == 1)]\n",
        "#false_positive\n",
        "fp = len(false_positive)\n",
        "#print(fp)"
      ],
      "execution_count": 109,
      "outputs": []
    },
    {
      "cell_type": "markdown",
      "metadata": {
        "id": "FSOC45EyTDip"
      },
      "source": [
        "Calculate true negative"
      ]
    },
    {
      "cell_type": "code",
      "metadata": {
        "id": "-JWbLALnH1P3"
      },
      "source": [
        "true_negative = df[(df['day']==3) & (df['y'] ==0) & (df['yhat'] ==0)]\n",
        "#true_negative\n",
        "tn = len(true_negative)\n",
        "#print(tn)\n"
      ],
      "execution_count": 110,
      "outputs": []
    },
    {
      "cell_type": "markdown",
      "metadata": {
        "id": "D7vIPoqlTL2_"
      },
      "source": [
        "Calculate false negative"
      ]
    },
    {
      "cell_type": "code",
      "metadata": {
        "id": "LW73jkpVMFXJ"
      },
      "source": [
        "false_negative = df[(df['day']==3) & (df['y'] ==1) & (df['yhat'] ==0)]\n",
        "#false_negative\n",
        "fn = len(false_negative)\n",
        "#print(fn)"
      ],
      "execution_count": 111,
      "outputs": []
    },
    {
      "cell_type": "markdown",
      "metadata": {
        "id": "L0JhQ7O2hMIx"
      },
      "source": [
        "# **Precision and Recall**\n",
        "\n",
        "\n",
        "Precision =  True positive / (True positive + False positive)\n",
        "\n",
        "Recall = True positive / (True positive + False negative)\n",
        "\n"
      ]
    },
    {
      "cell_type": "code",
      "metadata": {
        "colab": {
          "base_uri": "https://localhost:8080/"
        },
        "id": "i0Hura5vh53k",
        "outputId": "29148db7-0fea-48c8-ed21-bc5f12ccef37"
      },
      "source": [
        "precision = tp/(tp+fp)\n",
        "precision"
      ],
      "execution_count": 117,
      "outputs": [
        {
          "output_type": "execute_result",
          "data": {
            "text/plain": [
              "0.26666666666666666"
            ]
          },
          "metadata": {
            "tags": []
          },
          "execution_count": 117
        }
      ]
    },
    {
      "cell_type": "code",
      "metadata": {
        "colab": {
          "base_uri": "https://localhost:8080/"
        },
        "id": "naChmYHRjQDq",
        "outputId": "1ff77214-3476-4302-c732-2513902be90a"
      },
      "source": [
        "Recall = tp/(tp+fn)\n",
        "Recall"
      ],
      "execution_count": 116,
      "outputs": [
        {
          "output_type": "execute_result",
          "data": {
            "text/plain": [
              "0.36363636363636365"
            ]
          },
          "metadata": {
            "tags": []
          },
          "execution_count": 116
        }
      ]
    },
    {
      "cell_type": "markdown",
      "metadata": {
        "id": "98Pk8dgLjdME"
      },
      "source": [
        "# **F1 Score**\n",
        "\n",
        "F1 = 2 x Precision x Recall/(Presicion+Recall)"
      ]
    },
    {
      "cell_type": "code",
      "metadata": {
        "colab": {
          "base_uri": "https://localhost:8080/"
        },
        "id": "zw2QFz-qjvu8",
        "outputId": "9f623d01-f2ee-4428-f8f3-a905decd0368"
      },
      "source": [
        "F1 = 2*precision*Recall/(precision+Recall)\n",
        "F1"
      ],
      "execution_count": 115,
      "outputs": [
        {
          "output_type": "execute_result",
          "data": {
            "text/plain": [
              "0.30769230769230765"
            ]
          },
          "metadata": {
            "tags": []
          },
          "execution_count": 115
        }
      ]
    }
  ]
}